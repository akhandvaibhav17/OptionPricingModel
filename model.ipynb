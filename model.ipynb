{
 "cells": [
  {
   "cell_type": "code",
   "execution_count": 1,
   "metadata": {},
   "outputs": [],
   "source": [
    "import numpy as np\n",
    "import pandas as pd\n",
    "import math"
   ]
  },
  {
   "cell_type": "code",
   "execution_count": 2,
   "metadata": {},
   "outputs": [
    {
     "data": {
      "text/plain": [
       "0.5778"
      ]
     },
     "execution_count": 2,
     "metadata": {},
     "output_type": "execute_result"
    }
   ],
   "source": [
    "S=float(input('Asset Price\\n')) \n",
    "X=float(input('Strike Price\\n'))\n",
    "r=float(input('Risk Free Rate of Return\\n'))/100\n",
    "u=float(input('Forwarding Factor\\n'))\n",
    "d=float(input('Backwarding Factor\\n'))\n",
    "n=int(input('Number of Periods\\n'))\n",
    "p = round((1+r-d)/(u-d),4)\n",
    "p"
   ]
  },
  {
   "cell_type": "code",
   "execution_count": 3,
   "metadata": {},
   "outputs": [
    {
     "data": {
      "text/plain": [
       "[[50.0],\n",
       " [62.5, 40.0],\n",
       " [78.125, 50.0, 32.0],\n",
       " [97.6562, 62.5, 40.0, 25.6],\n",
       " [122.0703, 78.125, 50.0, 32.0, 20.48]]"
      ]
     },
     "execution_count": 3,
     "metadata": {},
     "output_type": "execute_result"
    }
   ],
   "source": [
    "asset_prices = []\n",
    "for i in range(n+1):\n",
    "    prices = []\n",
    "    for k in range(i+1):\n",
    "        price = round(S*math.pow(u,i-k)*math.pow(d,k),4)\n",
    "        prices.append(price)\n",
    "    asset_prices.append(prices)\n",
    "asset_prices"
   ]
  },
  {
   "cell_type": "code",
   "execution_count": 4,
   "metadata": {},
   "outputs": [
    {
     "data": {
      "text/plain": [
       "[[72.0703, 28.125, 0, 0, 0]]"
      ]
     },
     "execution_count": 4,
     "metadata": {},
     "output_type": "execute_result"
    }
   ],
   "source": [
    "call_prices = []\n",
    "price = []\n",
    "for i in range(len(asset_prices[-1])):\n",
    "    price.append(max(0,asset_prices[-1][i]-X))\n",
    "call_prices.append(price)\n",
    "call_prices"
   ]
  },
  {
   "cell_type": "code",
   "execution_count": 5,
   "metadata": {},
   "outputs": [
    {
     "data": {
      "text/plain": [
       "[[72.0703, 28.125, 0, 0, 0],\n",
       " [50.4874, 15.3308, 0.0, 0.0],\n",
       " [33.6267, 8.3567, 0.0],\n",
       " [21.6582, 4.5552],\n",
       " [13.6201]]"
      ]
     },
     "execution_count": 5,
     "metadata": {},
     "output_type": "execute_result"
    }
   ],
   "source": [
    "for i in reversed(range(n)):\n",
    "    prices = []\n",
    "    for j in range(i+1):\n",
    "        i1 = round(p*call_prices[-1][j],4)\n",
    "        i2 = round((1-p)*call_prices[-1][j+1],4)\n",
    "        i3 = round(i1+i2,4)\n",
    "        i4 = round(i3/(1+r),4)\n",
    "        i5 = round(i4,4)\n",
    "        prices.append(i5)\n",
    "    call_prices.append(prices)\n",
    "call_prices\n"
   ]
  }
 ],
 "metadata": {
  "kernelspec": {
   "display_name": "testenv",
   "language": "python",
   "name": "python3"
  },
  "language_info": {
   "codemirror_mode": {
    "name": "ipython",
    "version": 3
   },
   "file_extension": ".py",
   "mimetype": "text/x-python",
   "name": "python",
   "nbconvert_exporter": "python",
   "pygments_lexer": "ipython3",
   "version": "3.10.6"
  },
  "orig_nbformat": 4
 },
 "nbformat": 4,
 "nbformat_minor": 2
}
