{
 "cells": [
  {
   "cell_type": "code",
   "execution_count": 7,
   "metadata": {},
   "outputs": [],
   "source": [
    "import numpy as np\n",
    "import pandas as pd\n",
    "import math"
   ]
  },
  {
   "cell_type": "code",
   "execution_count": 8,
   "metadata": {},
   "outputs": [
    {
     "data": {
      "text/plain": [
       "0.3111"
      ]
     },
     "execution_count": 8,
     "metadata": {},
     "output_type": "execute_result"
    }
   ],
   "source": [
    "S=float(input('Asset Price\\n')) \n",
    "X=float(input('Strike Price\\n'))\n",
    "r=float(input('Risk Free Rate of Return\\n'))/100\n",
    "u=float(input('Forwarding Factor\\n'))\n",
    "d=float(input('Backwarding Factor\\n'))\n",
    "n=int(input('Number of Periods\\n'))\n",
    "p = round((1+r-d)/(u-d),4)\n",
    "p"
   ]
  },
  {
   "cell_type": "code",
   "execution_count": 9,
   "metadata": {},
   "outputs": [
    {
     "data": {
      "text/plain": [
       "[[50.0],\n",
       " [62.5, 40.0],\n",
       " [78.125, 50.0, 32.0],\n",
       " [97.6562, 62.5, 40.0, 25.6],\n",
       " [122.0703, 78.125, 50.0, 32.0, 20.48],\n",
       " [152.5879, 97.6562, 62.5, 40.0, 25.6, 16.384]]"
      ]
     },
     "execution_count": 9,
     "metadata": {},
     "output_type": "execute_result"
    }
   ],
   "source": [
    "asset_prices = []\n",
    "for i in range(n+1):\n",
    "    prices = []\n",
    "    for k in range(i+1):\n",
    "        price = round(S*math.pow(u,i-k)*math.pow(d,k),4)\n",
    "        prices.append(price)\n",
    "    asset_prices.append(prices)\n",
    "asset_prices"
   ]
  },
  {
   "cell_type": "code",
   "execution_count": 10,
   "metadata": {},
   "outputs": [
    {
     "data": {
      "text/plain": [
       "[[102.58789999999999, 47.6562, 12.5, 0, 0, 0]]"
      ]
     },
     "execution_count": 10,
     "metadata": {},
     "output_type": "execute_result"
    }
   ],
   "source": [
    "call_prices = []\n",
    "price = []\n",
    "for i in range(len(asset_prices[-1])):\n",
    "    price.append(max(0,asset_prices[-1][i]-X))\n",
    "call_prices.append(price)\n",
    "call_prices"
   ]
  },
  {
   "cell_type": "code",
   "execution_count": 12,
   "metadata": {},
   "outputs": [
    {
     "data": {
      "text/plain": [
       "[[0, 0, 0, 10.0, 24.4, 33.616]]"
      ]
     },
     "execution_count": 12,
     "metadata": {},
     "output_type": "execute_result"
    }
   ],
   "source": [
    "put_prices = []\n",
    "price = []\n",
    "for i in range(len(asset_prices[-1])):\n",
    "    price.append(max(0,X-asset_prices[-1][i]))\n",
    "put_prices.append(price)\n",
    "put_prices"
   ]
  },
  {
   "cell_type": "code",
   "execution_count": 13,
   "metadata": {},
   "outputs": [
    {
     "data": {
      "text/plain": [
       "[[102.58789999999999, 47.6562, 12.5, 0, 0, 0],\n",
       " [68.8782, 24.9331, 4.1369, 0.0, 0.0],\n",
       " [41.0685, 11.2836, 1.3691, 0.0],\n",
       " [21.8614, 4.7378, 0.4531],\n",
       " [10.7074, 1.9],\n",
       " [4.9362]]"
      ]
     },
     "execution_count": 13,
     "metadata": {},
     "output_type": "execute_result"
    }
   ],
   "source": [
    "for i in reversed(range(n)):\n",
    "    prices = []\n",
    "    for j in range(i+1):\n",
    "        i1 = round(p*call_prices[-1][j],4)\n",
    "        i2 = round((1-p)*call_prices[-1][j+1],4)\n",
    "        i3 = round(i1+i2,4)\n",
    "        i4 = round(i3/(1+r),4)\n",
    "        i5 = round(i4,4)\n",
    "        prices.append(i5)\n",
    "    call_prices.append(prices)\n",
    "call_prices\n"
   ]
  },
  {
   "cell_type": "code",
   "execution_count": 14,
   "metadata": {},
   "outputs": [
    {
     "data": {
      "text/plain": [
       "[[0, 0, 0, 10.0, 24.4, 33.616],\n",
       " [0.0, 0.0, 7.3287, 21.1917, 32.7116],\n",
       " [0.0, 5.371, 17.9564, 30.9869],\n",
       " [3.9363, 14.9373, 28.6522],\n",
       " [12.2499, 25.942],\n",
       " [23.0663]]"
      ]
     },
     "execution_count": 14,
     "metadata": {},
     "output_type": "execute_result"
    }
   ],
   "source": [
    "for i in reversed(range(n)):\n",
    "    prices = []\n",
    "    for j in range(i+1):\n",
    "        i1 = round(p*put_prices[-1][j],4)\n",
    "        i2 = round((1-p)*put_prices[-1][j+1],4)\n",
    "        i3 = round(i1+i2,4)\n",
    "        i4 = round(i3/(1+r),4)\n",
    "        i5 = round(i4,4)\n",
    "        prices.append(i5)\n",
    "    put_prices.append(prices)\n",
    "put_prices\n"
   ]
  },
  {
   "cell_type": "code",
   "execution_count": null,
   "metadata": {},
   "outputs": [],
   "source": []
  }
 ],
 "metadata": {
  "kernelspec": {
   "display_name": "testenv",
   "language": "python",
   "name": "python3"
  },
  "language_info": {
   "codemirror_mode": {
    "name": "ipython",
    "version": 3
   },
   "file_extension": ".py",
   "mimetype": "text/x-python",
   "name": "python",
   "nbconvert_exporter": "python",
   "pygments_lexer": "ipython3",
   "version": "3.10.6"
  },
  "orig_nbformat": 4
 },
 "nbformat": 4,
 "nbformat_minor": 2
}
